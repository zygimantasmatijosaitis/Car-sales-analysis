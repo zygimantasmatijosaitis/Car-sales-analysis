{
 "cells": [
  {
   "cell_type": "markdown",
   "metadata": {},
   "source": [
    "Links to files and data previews were removed so to respect company's data privacy"
   ]
  },
  {
   "cell_type": "markdown",
   "metadata": {},
   "source": [
    "# Data Science Homework\n",
    "\n",
    "Your homework, should you choose to accept it, will be to design models for predicting sales of used cars in the USA.  The data for this task is contained in the following files:\n",
    "\n",
    "•\tLink 1\n",
    "\n",
    "•\tLink 2\n",
    "\n",
    "(If you prefer working with SQL, the data is also available here .)\n",
    "\n",
    "listings_sample.csv contains vehicles that were listed for sale by some car dealerships, with one row for each day that the vehicle was listed for sale.  sales_sample.csv contains the date of sale of each vehicle.   Vehicles are uniquely identified by their listing_id.\n",
    "\n",
    "There are six tasks described below. Please complete each of the six tasks in language(s) of your choosing.  You should submit the source code along with the requested output files and instructions on how to execute the code to reproduce your results.  Place all the requested files in a directory data_science_homework, and submit a zipped or otherwise compressed file.  \n"
   ]
  },
  {
   "cell_type": "code",
   "execution_count": 1,
   "metadata": {},
   "outputs": [
    {
     "data": {
      "text/html": [
       "<style>.container { width:95% !important; }</style>"
      ],
      "text/plain": [
       "<IPython.core.display.HTML object>"
      ]
     },
     "metadata": {},
     "output_type": "display_data"
    }
   ],
   "source": [
    "import pandas as pd\n",
    "import numpy as np\n",
    "\n",
    "\n",
    "pd.set_option('display.max_rows', 500)\n",
    "pd.set_option('display.max_columns', 500)\n",
    "pd.set_option('display.width', 1000)\n",
    "\n",
    "from IPython.core.display import display, HTML\n",
    "display(HTML(\"<style>.container { width:95% !important; }</style>\"))"
   ]
  },
  {
   "cell_type": "code",
   "execution_count": 2,
   "metadata": {},
   "outputs": [],
   "source": [
    "sales = pd.read_csv('sales_sample.csv', sep = ',')\n",
    "listings = pd.read_csv('listings_sample.csv',  sep = ',', low_memory=False)"
   ]
  },
  {
   "cell_type": "code",
   "execution_count": 3,
   "metadata": {
    "scrolled": true
   },
   "outputs": [
    {
     "name": "stdout",
     "output_type": "stream",
     "text": [
      "(19463, 3)\n",
      "Index(['date_sold', 'listing_id', 'days_on_market'], dtype='object')\n"
     ]
    }
   ],
   "source": [
    "print(sales.shape)\n",
    "print(sales.columns)\n"
   ]
  },
  {
   "cell_type": "code",
   "execution_count": 27,
   "metadata": {},
   "outputs": [
    {
     "data": {
      "text/html": [
       "<div>\n",
       "<style scoped>\n",
       "    .dataframe tbody tr th:only-of-type {\n",
       "        vertical-align: middle;\n",
       "    }\n",
       "\n",
       "    .dataframe tbody tr th {\n",
       "        vertical-align: top;\n",
       "    }\n",
       "\n",
       "    .dataframe thead th {\n",
       "        text-align: right;\n",
       "    }\n",
       "</style>\n",
       "<table border=\"1\" class=\"dataframe\">\n",
       "  <thead>\n",
       "    <tr style=\"text-align: right;\">\n",
       "      <th></th>\n",
       "      <th>date_sold</th>\n",
       "      <th>listing_id</th>\n",
       "      <th>days_on_market</th>\n",
       "    </tr>\n",
       "  </thead>\n",
       "  <tbody>\n",
       "  </tbody>\n",
       "</table>\n",
       "</div>"
      ],
      "text/plain": [
       "Empty DataFrame\n",
       "Columns: [date_sold, listing_id, days_on_market]\n",
       "Index: []"
      ]
     },
     "execution_count": 27,
     "metadata": {},
     "output_type": "execute_result"
    }
   ],
   "source": [
    "sales.head(0)"
   ]
  },
  {
   "cell_type": "code",
   "execution_count": 5,
   "metadata": {},
   "outputs": [
    {
     "data": {
      "text/html": [
       "<div>\n",
       "<style scoped>\n",
       "    .dataframe tbody tr th:only-of-type {\n",
       "        vertical-align: middle;\n",
       "    }\n",
       "\n",
       "    .dataframe tbody tr th {\n",
       "        vertical-align: top;\n",
       "    }\n",
       "\n",
       "    .dataframe thead th {\n",
       "        text-align: right;\n",
       "    }\n",
       "</style>\n",
       "<table border=\"1\" class=\"dataframe\">\n",
       "  <thead>\n",
       "    <tr style=\"text-align: right;\">\n",
       "      <th></th>\n",
       "      <th>listing_id</th>\n",
       "      <th>days_on_market</th>\n",
       "    </tr>\n",
       "  </thead>\n",
       "  <tbody>\n",
       "    <tr>\n",
       "      <th>count</th>\n",
       "      <td>1.946300e+04</td>\n",
       "      <td>19161.000000</td>\n",
       "    </tr>\n",
       "    <tr>\n",
       "      <th>mean</th>\n",
       "      <td>2.976610e+16</td>\n",
       "      <td>46.497678</td>\n",
       "    </tr>\n",
       "    <tr>\n",
       "      <th>std</th>\n",
       "      <td>5.318423e+18</td>\n",
       "      <td>56.203556</td>\n",
       "    </tr>\n",
       "    <tr>\n",
       "      <th>min</th>\n",
       "      <td>-9.220673e+18</td>\n",
       "      <td>0.000000</td>\n",
       "    </tr>\n",
       "    <tr>\n",
       "      <th>25%</th>\n",
       "      <td>-4.552788e+18</td>\n",
       "      <td>11.000000</td>\n",
       "    </tr>\n",
       "    <tr>\n",
       "      <th>50%</th>\n",
       "      <td>3.431005e+16</td>\n",
       "      <td>28.000000</td>\n",
       "    </tr>\n",
       "    <tr>\n",
       "      <th>75%</th>\n",
       "      <td>4.629118e+18</td>\n",
       "      <td>62.000000</td>\n",
       "    </tr>\n",
       "    <tr>\n",
       "      <th>max</th>\n",
       "      <td>9.223240e+18</td>\n",
       "      <td>1039.000000</td>\n",
       "    </tr>\n",
       "  </tbody>\n",
       "</table>\n",
       "</div>"
      ],
      "text/plain": [
       "         listing_id  days_on_market\n",
       "count  1.946300e+04    19161.000000\n",
       "mean   2.976610e+16       46.497678\n",
       "std    5.318423e+18       56.203556\n",
       "min   -9.220673e+18        0.000000\n",
       "25%   -4.552788e+18       11.000000\n",
       "50%    3.431005e+16       28.000000\n",
       "75%    4.629118e+18       62.000000\n",
       "max    9.223240e+18     1039.000000"
      ]
     },
     "execution_count": 5,
     "metadata": {},
     "output_type": "execute_result"
    }
   ],
   "source": [
    "sales.describe()"
   ]
  },
  {
   "cell_type": "code",
   "execution_count": 6,
   "metadata": {
    "scrolled": true
   },
   "outputs": [
    {
     "name": "stdout",
     "output_type": "stream",
     "text": [
      "(869049, 22)\n",
      "Index(['date_added', 'has_accidents', 'body_type_name', 'car_year', 'listing_id', 'days_on_market', 'exterior_color', 'highway_fuel_economy', 'doors', 'make_display_name', 'model_display_name', 'mileage', 'msrp', 'color', 'owner_count', 'price', 'estimated_discount', 'seller_city', 'seller_postal_code', 'seller_id', 'seller_rating', 'trim_name'], dtype='object')\n"
     ]
    }
   ],
   "source": [
    "print(listings.shape)\n",
    "print(listings.columns)\n"
   ]
  },
  {
   "cell_type": "code",
   "execution_count": 28,
   "metadata": {},
   "outputs": [
    {
     "data": {
      "text/html": [
       "<div>\n",
       "<style scoped>\n",
       "    .dataframe tbody tr th:only-of-type {\n",
       "        vertical-align: middle;\n",
       "    }\n",
       "\n",
       "    .dataframe tbody tr th {\n",
       "        vertical-align: top;\n",
       "    }\n",
       "\n",
       "    .dataframe thead th {\n",
       "        text-align: right;\n",
       "    }\n",
       "</style>\n",
       "<table border=\"1\" class=\"dataframe\">\n",
       "  <thead>\n",
       "    <tr style=\"text-align: right;\">\n",
       "      <th></th>\n",
       "      <th>date_added</th>\n",
       "      <th>has_accidents</th>\n",
       "      <th>body_type_name</th>\n",
       "      <th>car_year</th>\n",
       "      <th>listing_id</th>\n",
       "      <th>days_on_market</th>\n",
       "      <th>exterior_color</th>\n",
       "      <th>highway_fuel_economy</th>\n",
       "      <th>doors</th>\n",
       "      <th>make_display_name</th>\n",
       "      <th>model_display_name</th>\n",
       "      <th>mileage</th>\n",
       "      <th>msrp</th>\n",
       "      <th>color</th>\n",
       "      <th>owner_count</th>\n",
       "      <th>price</th>\n",
       "      <th>estimated_discount</th>\n",
       "      <th>seller_city</th>\n",
       "      <th>seller_postal_code</th>\n",
       "      <th>seller_id</th>\n",
       "      <th>seller_rating</th>\n",
       "      <th>trim_name</th>\n",
       "      <th>date_added_date</th>\n",
       "    </tr>\n",
       "  </thead>\n",
       "  <tbody>\n",
       "  </tbody>\n",
       "</table>\n",
       "</div>"
      ],
      "text/plain": [
       "Empty DataFrame\n",
       "Columns: [date_added, has_accidents, body_type_name, car_year, listing_id, days_on_market, exterior_color, highway_fuel_economy, doors, make_display_name, model_display_name, mileage, msrp, color, owner_count, price, estimated_discount, seller_city, seller_postal_code, seller_id, seller_rating, trim_name, date_added_date]\n",
       "Index: []"
      ]
     },
     "execution_count": 28,
     "metadata": {},
     "output_type": "execute_result"
    }
   ],
   "source": [
    "listings.head(0)"
   ]
  },
  {
   "cell_type": "code",
   "execution_count": 8,
   "metadata": {},
   "outputs": [
    {
     "data": {
      "text/html": [
       "<div>\n",
       "<style scoped>\n",
       "    .dataframe tbody tr th:only-of-type {\n",
       "        vertical-align: middle;\n",
       "    }\n",
       "\n",
       "    .dataframe tbody tr th {\n",
       "        vertical-align: top;\n",
       "    }\n",
       "\n",
       "    .dataframe thead th {\n",
       "        text-align: right;\n",
       "    }\n",
       "</style>\n",
       "<table border=\"1\" class=\"dataframe\">\n",
       "  <thead>\n",
       "    <tr style=\"text-align: right;\">\n",
       "      <th></th>\n",
       "      <th>car_year</th>\n",
       "      <th>listing_id</th>\n",
       "      <th>days_on_market</th>\n",
       "      <th>highway_fuel_economy</th>\n",
       "      <th>mileage</th>\n",
       "      <th>msrp</th>\n",
       "      <th>owner_count</th>\n",
       "      <th>price</th>\n",
       "      <th>estimated_discount</th>\n",
       "      <th>seller_postal_code</th>\n",
       "      <th>seller_id</th>\n",
       "      <th>seller_rating</th>\n",
       "    </tr>\n",
       "  </thead>\n",
       "  <tbody>\n",
       "    <tr>\n",
       "      <th>count</th>\n",
       "      <td>869049.000000</td>\n",
       "      <td>8.690490e+05</td>\n",
       "      <td>859434.000000</td>\n",
       "      <td>584394.000000</td>\n",
       "      <td>861301.000000</td>\n",
       "      <td>534388.000000</td>\n",
       "      <td>719957.000000</td>\n",
       "      <td>822981.000000</td>\n",
       "      <td>869049.000000</td>\n",
       "      <td>869049.000000</td>\n",
       "      <td>8.690490e+05</td>\n",
       "      <td>810782.000000</td>\n",
       "    </tr>\n",
       "    <tr>\n",
       "      <th>mean</th>\n",
       "      <td>2015.082083</td>\n",
       "      <td>6.173419e+15</td>\n",
       "      <td>55.813157</td>\n",
       "      <td>22.449873</td>\n",
       "      <td>65073.773858</td>\n",
       "      <td>20008.460502</td>\n",
       "      <td>1.548237</td>\n",
       "      <td>29779.875199</td>\n",
       "      <td>1347.291391</td>\n",
       "      <td>98503.301443</td>\n",
       "      <td>-2.739658e+17</td>\n",
       "      <td>4.309527</td>\n",
       "    </tr>\n",
       "    <tr>\n",
       "      <th>std</th>\n",
       "      <td>4.678398</td>\n",
       "      <td>5.312801e+18</td>\n",
       "      <td>75.426711</td>\n",
       "      <td>3.209529</td>\n",
       "      <td>53195.063530</td>\n",
       "      <td>21694.741044</td>\n",
       "      <td>0.995236</td>\n",
       "      <td>15556.300444</td>\n",
       "      <td>1402.287093</td>\n",
       "      <td>521.297155</td>\n",
       "      <td>5.151930e+18</td>\n",
       "      <td>0.607909</td>\n",
       "    </tr>\n",
       "    <tr>\n",
       "      <th>min</th>\n",
       "      <td>1978.000000</td>\n",
       "      <td>-9.220673e+18</td>\n",
       "      <td>0.000000</td>\n",
       "      <td>12.000000</td>\n",
       "      <td>50.000000</td>\n",
       "      <td>-1.000000</td>\n",
       "      <td>1.000000</td>\n",
       "      <td>-1.000000</td>\n",
       "      <td>0.000000</td>\n",
       "      <td>37122.000000</td>\n",
       "      <td>-8.955974e+18</td>\n",
       "      <td>1.000000</td>\n",
       "    </tr>\n",
       "    <tr>\n",
       "      <th>25%</th>\n",
       "      <td>2013.000000</td>\n",
       "      <td>-4.578290e+18</td>\n",
       "      <td>13.000000</td>\n",
       "      <td>21.000000</td>\n",
       "      <td>23510.000000</td>\n",
       "      <td>-1.000000</td>\n",
       "      <td>1.000000</td>\n",
       "      <td>18995.000000</td>\n",
       "      <td>229.000000</td>\n",
       "      <td>98166.000000</td>\n",
       "      <td>-4.585827e+18</td>\n",
       "      <td>4.000000</td>\n",
       "    </tr>\n",
       "    <tr>\n",
       "      <th>50%</th>\n",
       "      <td>2017.000000</td>\n",
       "      <td>1.476116e+16</td>\n",
       "      <td>34.000000</td>\n",
       "      <td>22.000000</td>\n",
       "      <td>49159.000000</td>\n",
       "      <td>17358.000000</td>\n",
       "      <td>1.000000</td>\n",
       "      <td>28999.000000</td>\n",
       "      <td>1004.000000</td>\n",
       "      <td>98272.000000</td>\n",
       "      <td>4.617962e+17</td>\n",
       "      <td>4.000000</td>\n",
       "    </tr>\n",
       "    <tr>\n",
       "      <th>75%</th>\n",
       "      <td>2019.000000</td>\n",
       "      <td>4.573404e+18</td>\n",
       "      <td>72.000000</td>\n",
       "      <td>24.000000</td>\n",
       "      <td>93685.000000</td>\n",
       "      <td>37635.000000</td>\n",
       "      <td>2.000000</td>\n",
       "      <td>38910.000000</td>\n",
       "      <td>2007.000000</td>\n",
       "      <td>98903.000000</td>\n",
       "      <td>4.210657e+18</td>\n",
       "      <td>5.000000</td>\n",
       "    </tr>\n",
       "    <tr>\n",
       "      <th>max</th>\n",
       "      <td>2021.000000</td>\n",
       "      <td>9.223240e+18</td>\n",
       "      <td>1784.000000</td>\n",
       "      <td>37.000000</td>\n",
       "      <td>378779.000000</td>\n",
       "      <td>435125.000000</td>\n",
       "      <td>14.000000</td>\n",
       "      <td>538531.000000</td>\n",
       "      <td>25127.000000</td>\n",
       "      <td>99515.000000</td>\n",
       "      <td>9.191927e+18</td>\n",
       "      <td>5.000000</td>\n",
       "    </tr>\n",
       "  </tbody>\n",
       "</table>\n",
       "</div>"
      ],
      "text/plain": [
       "            car_year    listing_id  days_on_market  highway_fuel_economy        mileage           msrp    owner_count          price  estimated_discount  seller_postal_code     seller_id  seller_rating\n",
       "count  869049.000000  8.690490e+05   859434.000000         584394.000000  861301.000000  534388.000000  719957.000000  822981.000000       869049.000000       869049.000000  8.690490e+05  810782.000000\n",
       "mean     2015.082083  6.173419e+15       55.813157             22.449873   65073.773858   20008.460502       1.548237   29779.875199         1347.291391        98503.301443 -2.739658e+17       4.309527\n",
       "std         4.678398  5.312801e+18       75.426711              3.209529   53195.063530   21694.741044       0.995236   15556.300444         1402.287093          521.297155  5.151930e+18       0.607909\n",
       "min      1978.000000 -9.220673e+18        0.000000             12.000000      50.000000      -1.000000       1.000000      -1.000000            0.000000        37122.000000 -8.955974e+18       1.000000\n",
       "25%      2013.000000 -4.578290e+18       13.000000             21.000000   23510.000000      -1.000000       1.000000   18995.000000          229.000000        98166.000000 -4.585827e+18       4.000000\n",
       "50%      2017.000000  1.476116e+16       34.000000             22.000000   49159.000000   17358.000000       1.000000   28999.000000         1004.000000        98272.000000  4.617962e+17       4.000000\n",
       "75%      2019.000000  4.573404e+18       72.000000             24.000000   93685.000000   37635.000000       2.000000   38910.000000         2007.000000        98903.000000  4.210657e+18       5.000000\n",
       "max      2021.000000  9.223240e+18     1784.000000             37.000000  378779.000000  435125.000000      14.000000  538531.000000        25127.000000        99515.000000  9.191927e+18       5.000000"
      ]
     },
     "execution_count": 8,
     "metadata": {},
     "output_type": "execute_result"
    }
   ],
   "source": [
    "listings.describe()"
   ]
  },
  {
   "cell_type": "markdown",
   "metadata": {},
   "source": [
    "#### Let's check for duplications"
   ]
  },
  {
   "cell_type": "code",
   "execution_count": 9,
   "metadata": {},
   "outputs": [
    {
     "name": "stderr",
     "output_type": "stream",
     "text": [
      "D:\\Anaconda\\lib\\site-packages\\ipykernel_launcher.py:4: UserWarning: Boolean Series key will be reindexed to match DataFrame index.\n",
      "  after removing the cwd from sys.path.\n"
     ]
    },
    {
     "data": {
      "text/html": [
       "<div>\n",
       "<style scoped>\n",
       "    .dataframe tbody tr th:only-of-type {\n",
       "        vertical-align: middle;\n",
       "    }\n",
       "\n",
       "    .dataframe tbody tr th {\n",
       "        vertical-align: top;\n",
       "    }\n",
       "\n",
       "    .dataframe thead th {\n",
       "        text-align: right;\n",
       "    }\n",
       "</style>\n",
       "<table border=\"1\" class=\"dataframe\">\n",
       "  <thead>\n",
       "    <tr style=\"text-align: right;\">\n",
       "      <th></th>\n",
       "      <th>date_added</th>\n",
       "      <th>has_accidents</th>\n",
       "      <th>body_type_name</th>\n",
       "      <th>car_year</th>\n",
       "      <th>listing_id</th>\n",
       "      <th>days_on_market</th>\n",
       "      <th>exterior_color</th>\n",
       "      <th>highway_fuel_economy</th>\n",
       "      <th>doors</th>\n",
       "      <th>make_display_name</th>\n",
       "      <th>model_display_name</th>\n",
       "      <th>mileage</th>\n",
       "      <th>msrp</th>\n",
       "      <th>color</th>\n",
       "      <th>owner_count</th>\n",
       "      <th>price</th>\n",
       "      <th>estimated_discount</th>\n",
       "      <th>seller_city</th>\n",
       "      <th>seller_postal_code</th>\n",
       "      <th>seller_id</th>\n",
       "      <th>seller_rating</th>\n",
       "      <th>trim_name</th>\n",
       "      <th>date_added_date</th>\n",
       "    </tr>\n",
       "  </thead>\n",
       "  <tbody>\n",
       "  </tbody>\n",
       "</table>\n",
       "</div>"
      ],
      "text/plain": [
       "Empty DataFrame\n",
       "Columns: [date_added, has_accidents, body_type_name, car_year, listing_id, days_on_market, exterior_color, highway_fuel_economy, doors, make_display_name, model_display_name, mileage, msrp, color, owner_count, price, estimated_discount, seller_city, seller_postal_code, seller_id, seller_rating, trim_name, date_added_date]\n",
       "Index: []"
      ]
     },
     "execution_count": 9,
     "metadata": {},
     "output_type": "execute_result"
    }
   ],
   "source": [
    "listings['date_added_date'] = pd.to_datetime(listings['date_added']).dt.date\n",
    "listings.listing_id.nunique()\n",
    "listings[listings.duplicated(subset=['listing_id', 'date_added_date'], keep = False)][listings.listing_id \\\n",
    "                                > 0].sort_values(by = ['listing_id', 'date_added', 'days_on_market']).head(0)"
   ]
  },
  {
   "cell_type": "code",
   "execution_count": 10,
   "metadata": {},
   "outputs": [
    {
     "name": "stdout",
     "output_type": "stream",
     "text": [
      "unique listing id to to all listing id ratio: 0.9908544417612907\n",
      "duplicated sales: 330\n"
     ]
    },
    {
     "data": {
      "text/html": [
       "<div>\n",
       "<style scoped>\n",
       "    .dataframe tbody tr th:only-of-type {\n",
       "        vertical-align: middle;\n",
       "    }\n",
       "\n",
       "    .dataframe tbody tr th {\n",
       "        vertical-align: top;\n",
       "    }\n",
       "\n",
       "    .dataframe thead th {\n",
       "        text-align: right;\n",
       "    }\n",
       "</style>\n",
       "<table border=\"1\" class=\"dataframe\">\n",
       "  <thead>\n",
       "    <tr style=\"text-align: right;\">\n",
       "      <th></th>\n",
       "      <th>date_sold</th>\n",
       "      <th>listing_id</th>\n",
       "      <th>days_on_market</th>\n",
       "    </tr>\n",
       "  </thead>\n",
       "  <tbody>\n",
       "  </tbody>\n",
       "</table>\n",
       "</div>"
      ],
      "text/plain": [
       "Empty DataFrame\n",
       "Columns: [date_sold, listing_id, days_on_market]\n",
       "Index: []"
      ]
     },
     "execution_count": 10,
     "metadata": {},
     "output_type": "execute_result"
    }
   ],
   "source": [
    "print(\"unique listing id to to all listing id ratio:\", sales.listing_id.nunique() / sales.listing_id.shape[0])\n",
    "\n",
    "print(\"duplicated sales:\", sales[sales.duplicated(subset=['listing_id'], keep = False)].shape[0])\n",
    "\n",
    "sales[sales.duplicated(subset=['listing_id'], keep = False)].sort_values(by = 'listing_id').head(0)"
   ]
  },
  {
   "cell_type": "markdown",
   "metadata": {},
   "source": [
    "### Interpretation\n",
    "\n",
    "We can see that both: some sales and listings got duplicated. The listings are duplicated when initially the data is entered not full: and later some additional information is added\n",
    "\n",
    "I do not have information why these listing ids are duplicated in the sales dataset.\n",
    "\n",
    "I could assume several things: \n",
    "    \n",
    "1) some of these listing ids are negative numbers which doesn't make much sense - these could be faulty entries\n",
    "\n",
    "3) Duplicated because some listings are dulicated - wrong since sales dates differ even for duplicated listing_ids\n",
    "\n",
    "2) Some listings are duplicated because I see reservations not actual sales and these reservations due to some reason were canceled\n",
    "\n",
    "#### I will assume the 3 - I will hence leave only the very last sale for every listing_id.  I will also keep only the correct listings."
   ]
  },
  {
   "cell_type": "code",
   "execution_count": 11,
   "metadata": {},
   "outputs": [
    {
     "name": "stdout",
     "output_type": "stream",
     "text": [
      "(19463, 3)\n",
      "(19285, 3)\n"
     ]
    }
   ],
   "source": [
    "print(sales.shape)\n",
    "sales = sales.sort_values(by = ['listing_id', 'date_sold']).drop_duplicates(['listing_id'], keep='last')\n",
    "print(sales.shape)"
   ]
  },
  {
   "cell_type": "code",
   "execution_count": 12,
   "metadata": {},
   "outputs": [
    {
     "name": "stdout",
     "output_type": "stream",
     "text": [
      "(869049, 23)\n",
      "(861584, 23)\n"
     ]
    }
   ],
   "source": [
    "print(listings.shape)\n",
    "listings = listings.sort_values(by = ['listing_id', 'date_added_date', \\\n",
    "                                      'days_on_market']).drop_duplicates(['listing_id', 'date_added_date'], keep='first')\n",
    "\n",
    "print(listings.shape)"
   ]
  },
  {
   "cell_type": "markdown",
   "metadata": {},
   "source": [
    "#### Now we can merge the listings dataset with sales dataset"
   ]
  },
  {
   "cell_type": "code",
   "execution_count": 13,
   "metadata": {},
   "outputs": [
    {
     "name": "stdout",
     "output_type": "stream",
     "text": [
      "(861584, 23)\n",
      "(861584, 25)\n"
     ]
    },
    {
     "data": {
      "text/html": [
       "<div>\n",
       "<style scoped>\n",
       "    .dataframe tbody tr th:only-of-type {\n",
       "        vertical-align: middle;\n",
       "    }\n",
       "\n",
       "    .dataframe tbody tr th {\n",
       "        vertical-align: top;\n",
       "    }\n",
       "\n",
       "    .dataframe thead th {\n",
       "        text-align: right;\n",
       "    }\n",
       "</style>\n",
       "<table border=\"1\" class=\"dataframe\">\n",
       "  <thead>\n",
       "    <tr style=\"text-align: right;\">\n",
       "      <th></th>\n",
       "      <th>date_added</th>\n",
       "      <th>has_accidents</th>\n",
       "      <th>body_type_name</th>\n",
       "      <th>car_year</th>\n",
       "      <th>listing_id</th>\n",
       "      <th>days_on_market_x</th>\n",
       "      <th>exterior_color</th>\n",
       "      <th>highway_fuel_economy</th>\n",
       "      <th>doors</th>\n",
       "      <th>make_display_name</th>\n",
       "      <th>model_display_name</th>\n",
       "      <th>mileage</th>\n",
       "      <th>msrp</th>\n",
       "      <th>color</th>\n",
       "      <th>owner_count</th>\n",
       "      <th>price</th>\n",
       "      <th>estimated_discount</th>\n",
       "      <th>seller_city</th>\n",
       "      <th>seller_postal_code</th>\n",
       "      <th>seller_id</th>\n",
       "      <th>seller_rating</th>\n",
       "      <th>trim_name</th>\n",
       "      <th>date_added_date</th>\n",
       "      <th>date_sold</th>\n",
       "      <th>days_on_market_y</th>\n",
       "      <th>sold</th>\n",
       "    </tr>\n",
       "  </thead>\n",
       "  <tbody>\n",
       "  </tbody>\n",
       "</table>\n",
       "</div>"
      ],
      "text/plain": [
       "Empty DataFrame\n",
       "Columns: [date_added, has_accidents, body_type_name, car_year, listing_id, days_on_market_x, exterior_color, highway_fuel_economy, doors, make_display_name, model_display_name, mileage, msrp, color, owner_count, price, estimated_discount, seller_city, seller_postal_code, seller_id, seller_rating, trim_name, date_added_date, date_sold, days_on_market_y, sold]\n",
       "Index: []"
      ]
     },
     "execution_count": 13,
     "metadata": {},
     "output_type": "execute_result"
    }
   ],
   "source": [
    "print(listings.shape)\n",
    "df = listings.merge(sales, how='left', on=['listing_id'])\n",
    "\n",
    "# Remove time of sales and leave only dates\n",
    "print(df.shape)\n",
    "df['date_added'] = pd.to_datetime(df['date_added']).dt.date\n",
    "df['date_sold'] = pd.to_datetime(df['date_sold']).dt.date\n",
    "\n",
    "# Flag for days when the listed item was sold\n",
    "df['sold'] = np.where(df['date_added'] == df['date_sold'], 1, 0)\n",
    "\n",
    "\n",
    "df.head(0)"
   ]
  },
  {
   "cell_type": "markdown",
   "metadata": {},
   "source": [
    "listings[listings.listing_id == -8936203189521311158].head().sort_values(by = 'date_added')"
   ]
  },
  {
   "cell_type": "markdown",
   "metadata": {},
   "source": [
    "### Task 1\n",
    "\n",
    "Produce a CSV report of the number of vehicles sold each day by each dealer for each valid pair of make and model values.  \n",
    "\n",
    "The CSV report should have five columns - date, seller_id, make, model, and sales_count - and should be in a file titled make_model_sales_per_dealer_per_day.csv.  \n",
    "\n",
    "The report should include days when no vehicles were sold, in which case sales_count = 0.  \n",
    "\n",
    "Limit the CSV file to the first 100,000 rows sorted by seller_id, date, make, and then model.  \n",
    "\n",
    "Some relevant information for this task: \n",
    "\n",
    "a)\tThe dealer is identified by the seller_id of the listings. \n",
    "\n",
    "b)\tThe make and model are identified by make_display_name and model_display_name. \n",
    "\n",
    "c)\tSold vehicles are those which are present in sales_sample.csv, which contains the date of sale of the vehicle.\n"
   ]
  },
  {
   "cell_type": "code",
   "execution_count": 14,
   "metadata": {},
   "outputs": [
    {
     "data": {
      "text/html": [
       "<div>\n",
       "<style scoped>\n",
       "    .dataframe tbody tr th:only-of-type {\n",
       "        vertical-align: middle;\n",
       "    }\n",
       "\n",
       "    .dataframe tbody tr th {\n",
       "        vertical-align: top;\n",
       "    }\n",
       "\n",
       "    .dataframe thead th {\n",
       "        text-align: right;\n",
       "    }\n",
       "</style>\n",
       "<table border=\"1\" class=\"dataframe\">\n",
       "  <thead>\n",
       "    <tr style=\"text-align: right;\">\n",
       "      <th></th>\n",
       "      <th>date_added</th>\n",
       "      <th>has_accidents</th>\n",
       "      <th>body_type_name</th>\n",
       "      <th>car_year</th>\n",
       "      <th>listing_id</th>\n",
       "      <th>days_on_market_x</th>\n",
       "      <th>exterior_color</th>\n",
       "      <th>highway_fuel_economy</th>\n",
       "      <th>doors</th>\n",
       "      <th>make_display_name</th>\n",
       "      <th>model_display_name</th>\n",
       "      <th>mileage</th>\n",
       "      <th>msrp</th>\n",
       "      <th>color</th>\n",
       "      <th>owner_count</th>\n",
       "      <th>price</th>\n",
       "      <th>estimated_discount</th>\n",
       "      <th>seller_city</th>\n",
       "      <th>seller_postal_code</th>\n",
       "      <th>seller_id</th>\n",
       "      <th>seller_rating</th>\n",
       "      <th>trim_name</th>\n",
       "      <th>date_added_date</th>\n",
       "      <th>date_sold</th>\n",
       "      <th>days_on_market_y</th>\n",
       "      <th>sold</th>\n",
       "    </tr>\n",
       "  </thead>\n",
       "  <tbody>\n",
       "  </tbody>\n",
       "</table>\n",
       "</div>"
      ],
      "text/plain": [
       "Empty DataFrame\n",
       "Columns: [date_added, has_accidents, body_type_name, car_year, listing_id, days_on_market_x, exterior_color, highway_fuel_economy, doors, make_display_name, model_display_name, mileage, msrp, color, owner_count, price, estimated_discount, seller_city, seller_postal_code, seller_id, seller_rating, trim_name, date_added_date, date_sold, days_on_market_y, sold]\n",
       "Index: []"
      ]
     },
     "execution_count": 14,
     "metadata": {},
     "output_type": "execute_result"
    }
   ],
   "source": [
    "df.sort_values(by = ['listing_id', 'date_added']).head(0)"
   ]
  },
  {
   "cell_type": "code",
   "execution_count": 15,
   "metadata": {},
   "outputs": [
    {
     "data": {
      "text/html": [
       "<div>\n",
       "<style scoped>\n",
       "    .dataframe tbody tr th:only-of-type {\n",
       "        vertical-align: middle;\n",
       "    }\n",
       "\n",
       "    .dataframe tbody tr th {\n",
       "        vertical-align: top;\n",
       "    }\n",
       "\n",
       "    .dataframe thead th {\n",
       "        text-align: right;\n",
       "    }\n",
       "</style>\n",
       "<table border=\"1\" class=\"dataframe\">\n",
       "  <thead>\n",
       "    <tr style=\"text-align: right;\">\n",
       "      <th></th>\n",
       "      <th>date</th>\n",
       "      <th>seller_id</th>\n",
       "      <th>make</th>\n",
       "      <th>model</th>\n",
       "      <th>sold</th>\n",
       "    </tr>\n",
       "  </thead>\n",
       "  <tbody>\n",
       "  </tbody>\n",
       "</table>\n",
       "</div>"
      ],
      "text/plain": [
       "Empty DataFrame\n",
       "Columns: [date, seller_id, make, model, sold]\n",
       "Index: []"
      ]
     },
     "execution_count": 15,
     "metadata": {},
     "output_type": "execute_result"
    }
   ],
   "source": [
    "# Grouping\n",
    "grouped = df[['date_added','seller_id', 'make_display_name', 'model_display_name', 'sold']].groupby(['date_added',\n",
    "            'seller_id', 'make_display_name', 'model_display_name'])[['sold']].sum().reset_index()\n",
    "\n",
    "#Renamingcolumns and sorting\n",
    "grouped = grouped.rename(columns={'date_added':'date', 'make_display_name':'make', \n",
    "                'model_display_name':'model'}).reset_index(drop = True).sort_values(by = ['seller_id', 'date', 'make', 'model'])\n",
    "\n",
    "# Let's write the output to a csv file\n",
    "grouped.head(100000).to_csv('make_model_sales_per_dealer_per_day.csv', sep=',',index=False)\n",
    "\n",
    "grouped.head(0)"
   ]
  },
  {
   "cell_type": "code",
   "execution_count": 16,
   "metadata": {},
   "outputs": [
    {
     "data": {
      "text/plain": [
       "True"
      ]
     },
     "execution_count": 16,
     "metadata": {},
     "output_type": "execute_result"
    }
   ],
   "source": [
    "# Sanity check.\n",
    "#Check if sum of sales in the output file is the same as in the sales file (after removal of duplicates)\n",
    "\n",
    "sales.shape[0] == sum(grouped.sold)"
   ]
  },
  {
   "cell_type": "markdown",
   "metadata": {},
   "source": [
    "### Task 2\n",
    "\n",
    "Produce a csv file of the number of vehicles sold in the preceding 30 days, excluding the current day, for each day, dealer, make, and model.  \n",
    "\n",
    "As with task 1, the counts should be per dealer, make, and model, and should include days when no vehicles were sold in the preceding 30 days.  \n",
    "\n",
    "The file should be titled make_model_sales_per_dealer_previous_30_days.csv and have columns date, seller_id, make, model, and sales_past_30days_per_make_model_dealer.  \n",
    "\n",
    "Limit the CSV file to the first 100,000 rows sorted by seller_id, date, make, and then model."
   ]
  },
  {
   "cell_type": "code",
   "execution_count": 17,
   "metadata": {},
   "outputs": [],
   "source": [
    "# Let's interpolate the missing dates and include 0 in the sales between dates in listings \n",
    "# as later I will use the \"rolling\" function which doesn't handle missing values\n",
    "\n",
    "grouped['date']  = pd.to_datetime(grouped.date).astype('datetime64[ns]')\n",
    "\n",
    "f = lambda x: x.reindex(pd.date_range(x.index.min(), x.index.max(), freq='D', name='date'))\n",
    "\n",
    "grouped = grouped.set_index('date').groupby(['seller_id', 'make', \\\n",
    "                'model']).apply(f).drop(['seller_id', 'make', 'model'], axis=1).fillna(0).sort_values(by = ['seller_id', 'date']).reset_index()\n"
   ]
  },
  {
   "cell_type": "code",
   "execution_count": 18,
   "metadata": {},
   "outputs": [],
   "source": [
    "#  Let's calculate vehicles sold in the preceding 30 days\n",
    "rolling = grouped.set_index('date').groupby(['seller_id', 'make', 'model']).rolling(window=30, freq='D', \\\n",
    "                                        min_periods=1).sum()['sold'].shift().reset_index().rename(columns={  \\\n",
    "                                        'sold':'sales_past_30days_per_make_model_dealer'}).fillna(0)\n"
   ]
  },
  {
   "cell_type": "code",
   "execution_count": 19,
   "metadata": {},
   "outputs": [
    {
     "name": "stdout",
     "output_type": "stream",
     "text": [
      "(621805, 5)\n",
      "(621805, 5)\n",
      "(621805, 6)\n"
     ]
    }
   ],
   "source": [
    "print(rolling.shape)\n",
    "print(grouped.shape)\n",
    "rolling = rolling.merge(grouped, on = ['seller_id', 'date', 'make', 'model'], how = \\\n",
    "                        'inner').sort_values(by = ['seller_id', 'date', 'make', 'model'])\n",
    "print(rolling.shape)\n",
    "\n",
    "# Let's write the output to a csv file\n",
    "rolling[['date', 'seller_id', 'make', 'model', 'sales_past_30days_per_make_model_dealer']].head(100000).to_csv('make_model_sales_per_dealer_previous_30_days.csv', sep=',',index=False)"
   ]
  },
  {
   "cell_type": "code",
   "execution_count": 20,
   "metadata": {},
   "outputs": [
    {
     "data": {
      "text/plain": [
       "True"
      ]
     },
     "execution_count": 20,
     "metadata": {},
     "output_type": "execute_result"
    }
   ],
   "source": [
    "# Sanity check.\n",
    "\n",
    "sales.shape[0] == sum(rolling.sold)"
   ]
  },
  {
   "cell_type": "code",
   "execution_count": 21,
   "metadata": {},
   "outputs": [
    {
     "data": {
      "text/html": [
       "<div>\n",
       "<style scoped>\n",
       "    .dataframe tbody tr th:only-of-type {\n",
       "        vertical-align: middle;\n",
       "    }\n",
       "\n",
       "    .dataframe tbody tr th {\n",
       "        vertical-align: top;\n",
       "    }\n",
       "\n",
       "    .dataframe thead th {\n",
       "        text-align: right;\n",
       "    }\n",
       "</style>\n",
       "<table border=\"1\" class=\"dataframe\">\n",
       "  <thead>\n",
       "    <tr style=\"text-align: right;\">\n",
       "      <th></th>\n",
       "      <th>seller_id</th>\n",
       "      <th>make</th>\n",
       "      <th>model</th>\n",
       "      <th>date</th>\n",
       "      <th>sales_past_30days_per_make_model_dealer</th>\n",
       "      <th>sold</th>\n",
       "    </tr>\n",
       "  </thead>\n",
       "  <tbody>\n",
       "    <tr>\n",
       "      <th>0</th>\n",
       "      <td>-8955973641505802610</td>\n",
       "      <td>Cadillac</td>\n",
       "      <td>Escalade</td>\n",
       "      <td>2020-02-15</td>\n",
       "      <td>0.0</td>\n",
       "      <td>0.0</td>\n",
       "    </tr>\n",
       "    <tr>\n",
       "      <th>1</th>\n",
       "      <td>-8955973641505802610</td>\n",
       "      <td>Cadillac</td>\n",
       "      <td>Escalade</td>\n",
       "      <td>2020-02-16</td>\n",
       "      <td>0.0</td>\n",
       "      <td>0.0</td>\n",
       "    </tr>\n",
       "    <tr>\n",
       "      <th>2</th>\n",
       "      <td>-8955973641505802610</td>\n",
       "      <td>Cadillac</td>\n",
       "      <td>Escalade</td>\n",
       "      <td>2020-02-17</td>\n",
       "      <td>0.0</td>\n",
       "      <td>0.0</td>\n",
       "    </tr>\n",
       "    <tr>\n",
       "      <th>3</th>\n",
       "      <td>-8955973641505802610</td>\n",
       "      <td>Cadillac</td>\n",
       "      <td>Escalade</td>\n",
       "      <td>2020-02-18</td>\n",
       "      <td>0.0</td>\n",
       "      <td>0.0</td>\n",
       "    </tr>\n",
       "    <tr>\n",
       "      <th>4</th>\n",
       "      <td>-8955973641505802610</td>\n",
       "      <td>Cadillac</td>\n",
       "      <td>Escalade</td>\n",
       "      <td>2020-02-19</td>\n",
       "      <td>0.0</td>\n",
       "      <td>0.0</td>\n",
       "    </tr>\n",
       "    <tr>\n",
       "      <th>5</th>\n",
       "      <td>-8955973641505802610</td>\n",
       "      <td>Cadillac</td>\n",
       "      <td>Escalade</td>\n",
       "      <td>2020-02-20</td>\n",
       "      <td>0.0</td>\n",
       "      <td>0.0</td>\n",
       "    </tr>\n",
       "    <tr>\n",
       "      <th>6</th>\n",
       "      <td>-8955973641505802610</td>\n",
       "      <td>Cadillac</td>\n",
       "      <td>Escalade</td>\n",
       "      <td>2020-02-21</td>\n",
       "      <td>0.0</td>\n",
       "      <td>0.0</td>\n",
       "    </tr>\n",
       "    <tr>\n",
       "      <th>7</th>\n",
       "      <td>-8955973641505802610</td>\n",
       "      <td>Cadillac</td>\n",
       "      <td>Escalade</td>\n",
       "      <td>2020-02-22</td>\n",
       "      <td>0.0</td>\n",
       "      <td>1.0</td>\n",
       "    </tr>\n",
       "    <tr>\n",
       "      <th>8</th>\n",
       "      <td>-8955973641505802610</td>\n",
       "      <td>Cadillac</td>\n",
       "      <td>Escalade</td>\n",
       "      <td>2020-02-23</td>\n",
       "      <td>1.0</td>\n",
       "      <td>0.0</td>\n",
       "    </tr>\n",
       "    <tr>\n",
       "      <th>9</th>\n",
       "      <td>-8955973641505802610</td>\n",
       "      <td>Cadillac</td>\n",
       "      <td>Escalade</td>\n",
       "      <td>2020-02-24</td>\n",
       "      <td>1.0</td>\n",
       "      <td>0.0</td>\n",
       "    </tr>\n",
       "    <tr>\n",
       "      <th>10</th>\n",
       "      <td>-8955973641505802610</td>\n",
       "      <td>Cadillac</td>\n",
       "      <td>Escalade</td>\n",
       "      <td>2020-02-25</td>\n",
       "      <td>1.0</td>\n",
       "      <td>0.0</td>\n",
       "    </tr>\n",
       "    <tr>\n",
       "      <th>11</th>\n",
       "      <td>-8955973641505802610</td>\n",
       "      <td>Cadillac</td>\n",
       "      <td>Escalade</td>\n",
       "      <td>2020-02-26</td>\n",
       "      <td>1.0</td>\n",
       "      <td>0.0</td>\n",
       "    </tr>\n",
       "    <tr>\n",
       "      <th>12</th>\n",
       "      <td>-8955973641505802610</td>\n",
       "      <td>Cadillac</td>\n",
       "      <td>Escalade</td>\n",
       "      <td>2020-02-27</td>\n",
       "      <td>1.0</td>\n",
       "      <td>0.0</td>\n",
       "    </tr>\n",
       "    <tr>\n",
       "      <th>13</th>\n",
       "      <td>-8955973641505802610</td>\n",
       "      <td>Cadillac</td>\n",
       "      <td>Escalade</td>\n",
       "      <td>2020-02-28</td>\n",
       "      <td>1.0</td>\n",
       "      <td>0.0</td>\n",
       "    </tr>\n",
       "    <tr>\n",
       "      <th>14</th>\n",
       "      <td>-8955973641505802610</td>\n",
       "      <td>Cadillac</td>\n",
       "      <td>Escalade</td>\n",
       "      <td>2020-02-29</td>\n",
       "      <td>1.0</td>\n",
       "      <td>0.0</td>\n",
       "    </tr>\n",
       "    <tr>\n",
       "      <th>15</th>\n",
       "      <td>-8955973641505802610</td>\n",
       "      <td>Cadillac</td>\n",
       "      <td>Escalade</td>\n",
       "      <td>2020-03-01</td>\n",
       "      <td>1.0</td>\n",
       "      <td>0.0</td>\n",
       "    </tr>\n",
       "    <tr>\n",
       "      <th>16</th>\n",
       "      <td>-8955973641505802610</td>\n",
       "      <td>Cadillac</td>\n",
       "      <td>Escalade</td>\n",
       "      <td>2020-03-02</td>\n",
       "      <td>1.0</td>\n",
       "      <td>0.0</td>\n",
       "    </tr>\n",
       "    <tr>\n",
       "      <th>17</th>\n",
       "      <td>-8955973641505802610</td>\n",
       "      <td>Cadillac</td>\n",
       "      <td>Escalade</td>\n",
       "      <td>2020-03-03</td>\n",
       "      <td>1.0</td>\n",
       "      <td>0.0</td>\n",
       "    </tr>\n",
       "    <tr>\n",
       "      <th>18</th>\n",
       "      <td>-8955973641505802610</td>\n",
       "      <td>Cadillac</td>\n",
       "      <td>Escalade</td>\n",
       "      <td>2020-03-04</td>\n",
       "      <td>1.0</td>\n",
       "      <td>0.0</td>\n",
       "    </tr>\n",
       "    <tr>\n",
       "      <th>19</th>\n",
       "      <td>-8955973641505802610</td>\n",
       "      <td>Cadillac</td>\n",
       "      <td>Escalade</td>\n",
       "      <td>2020-03-05</td>\n",
       "      <td>1.0</td>\n",
       "      <td>0.0</td>\n",
       "    </tr>\n",
       "  </tbody>\n",
       "</table>\n",
       "</div>"
      ],
      "text/plain": [
       "              seller_id      make     model       date  sales_past_30days_per_make_model_dealer  sold\n",
       "0  -8955973641505802610  Cadillac  Escalade 2020-02-15                                      0.0   0.0\n",
       "1  -8955973641505802610  Cadillac  Escalade 2020-02-16                                      0.0   0.0\n",
       "2  -8955973641505802610  Cadillac  Escalade 2020-02-17                                      0.0   0.0\n",
       "3  -8955973641505802610  Cadillac  Escalade 2020-02-18                                      0.0   0.0\n",
       "4  -8955973641505802610  Cadillac  Escalade 2020-02-19                                      0.0   0.0\n",
       "5  -8955973641505802610  Cadillac  Escalade 2020-02-20                                      0.0   0.0\n",
       "6  -8955973641505802610  Cadillac  Escalade 2020-02-21                                      0.0   0.0\n",
       "7  -8955973641505802610  Cadillac  Escalade 2020-02-22                                      0.0   1.0\n",
       "8  -8955973641505802610  Cadillac  Escalade 2020-02-23                                      1.0   0.0\n",
       "9  -8955973641505802610  Cadillac  Escalade 2020-02-24                                      1.0   0.0\n",
       "10 -8955973641505802610  Cadillac  Escalade 2020-02-25                                      1.0   0.0\n",
       "11 -8955973641505802610  Cadillac  Escalade 2020-02-26                                      1.0   0.0\n",
       "12 -8955973641505802610  Cadillac  Escalade 2020-02-27                                      1.0   0.0\n",
       "13 -8955973641505802610  Cadillac  Escalade 2020-02-28                                      1.0   0.0\n",
       "14 -8955973641505802610  Cadillac  Escalade 2020-02-29                                      1.0   0.0\n",
       "15 -8955973641505802610  Cadillac  Escalade 2020-03-01                                      1.0   0.0\n",
       "16 -8955973641505802610  Cadillac  Escalade 2020-03-02                                      1.0   0.0\n",
       "17 -8955973641505802610  Cadillac  Escalade 2020-03-03                                      1.0   0.0\n",
       "18 -8955973641505802610  Cadillac  Escalade 2020-03-04                                      1.0   0.0\n",
       "19 -8955973641505802610  Cadillac  Escalade 2020-03-05                                      1.0   0.0"
      ]
     },
     "execution_count": 21,
     "metadata": {},
     "output_type": "execute_result"
    }
   ],
   "source": [
    "# Chenged the ordering to check on the same seller and model level over consecutive days - it's correct\n",
    "\n",
    "rolling.sort_values(by = ['seller_id','make', 'model', 'date']).head(20)"
   ]
  },
  {
   "cell_type": "markdown",
   "metadata": {},
   "source": [
    "### Task 3\n",
    "\n",
    "Calculate Pearson’s correlation coefficient between make and models sold by a dealer in the previous 30 days with the number sold for the same dealer, make and model in the next 30 days.\n",
    "\n",
    "Write the result to a csv file correlation.csv with one row and one column called correlation."
   ]
  },
  {
   "cell_type": "code",
   "execution_count": 22,
   "metadata": {},
   "outputs": [
    {
     "name": "stdout",
     "output_type": "stream",
     "text": [
      "(621805, 6)\n"
     ]
    }
   ],
   "source": [
    "rolling_forward = grouped.set_index('date').groupby(['seller_id', 'make', \\\n",
    "                'model']).rolling(window=30, freq='D',  min_periods=1).sum()['sold'].shift(-30).reset_index().rename(columns={'sold':'sold_rolling_forward_30'})\n",
    "\n",
    "rolling_forward = rolling_forward.merge(grouped, on = ['seller_id', 'date', 'make', 'model'], how = 'inner')\n",
    "print(rolling_forward.shape)\n"
   ]
  },
  {
   "cell_type": "code",
   "execution_count": 23,
   "metadata": {},
   "outputs": [
    {
     "data": {
      "text/plain": [
       "(621805, 7)"
      ]
     },
     "execution_count": 23,
     "metadata": {},
     "output_type": "execute_result"
    }
   ],
   "source": [
    "rolling = rolling.merge(rolling_forward, on = ['seller_id', 'date', 'make', 'model', 'sold'], how = 'inner')\n",
    "rolling.shape"
   ]
  },
  {
   "cell_type": "code",
   "execution_count": 24,
   "metadata": {},
   "outputs": [
    {
     "name": "stdout",
     "output_type": "stream",
     "text": [
      "correlation is:  0.6355040612047936\n"
     ]
    }
   ],
   "source": [
    "corr = rolling['sales_past_30days_per_make_model_dealer'].corr(rolling['sold_rolling_forward_30'], method='pearson')\n",
    "print(\"correlation is: \",  corr)\n",
    "pd.DataFrame([corr], columns=['Correlation']).to_csv('correlation.csv', sep='\\t',index=False)"
   ]
  },
  {
   "cell_type": "markdown",
   "metadata": {},
   "source": [
    "### The next tasks require in depth dive into data/modeling and thus I will only answer them in writing, in particular, how I would try to approach the problems."
   ]
  },
  {
   "cell_type": "markdown",
   "metadata": {},
   "source": [
    "### Task 4\n",
    "\n",
    "Suppose that we wish to predict the value for the next 30 days of sales for each combination of dealer, make, model. Describe the steps you would take to build a model for this. Code is not required for this, but feel free to include any data or graphs that help illustrate your reasoning. \n",
    "\n",
    "Put your response in a format of your choosing in a subdirectory \n",
    "\n",
    "a)\tWhich model or models you would try first, and why.\n",
    "\n",
    "b)\tAdditional features you would consider developing, and why.\n",
    "\n",
    "c)\tAny specific problems you might foresee arising for this particular modeling task, and what you might do to handle them. \n"
   ]
  },
  {
   "cell_type": "markdown",
   "metadata": {},
   "source": [
    "### Answer\n",
    "\n",
    "We can see there is some moderate correlation (0.64) between past and future 30 day sales. I would add additionally longer dataframes of sales for every seller: 30,60,...365 days sales for existing combinations of cars and makesa as a feature to predict the future ones. \n",
    "\n",
    "Also maybe there is a connection days_on_market and sales (i.e. potential discounts if the car hasn't been bought for a while). Car popularity metrics - i.e. average time body type/model is listed (you can add more features combining models with some other aspects - like has damage etc). one hot encoding of number car make/models (or their groups) that are listed for each seller - maybe the seller specialises in sales of cars with damage for example.\n",
    "\n",
    "Car specific values like min/mean/max mileage, car_year, price, color, fraction of cars with has_accidents should also be useful when predicting if they will be sold into each seller's cars on display. The more data you have the more specific you can get, feature engineering would be the most important step. Also the data should then be scaled before using it in regressions, especially NN.\n",
    "\n",
    "Given that the dataset is fairly large, NN models could work, for example LSTM, or 1 dimensional CNN models generally are known to perform well on multivariate time series problems. We should then create a supervised learning problem from the dataset, combining every seller at every point in time where sales 30 days in advance are known and then we could then fit the model, later testing on unseen data."
   ]
  },
  {
   "cell_type": "markdown",
   "metadata": {},
   "source": [
    "### Task 5\n",
    "\n",
    "Suppose that we wish to model the probability of each individual listing selling in the next 7 days.  Describe how you might approach building a model for this.  Code is not required for this, but feel free to include any data or graphs that help illustrate your reasoning.  Put your response in a format of your choosing in a subdirectory data_science_homework/sales_probability.  Please do include the following information:\n",
    "\n",
    "a)\tWhich model or models you would try first, and why.\n",
    "\n",
    "b)\tAdditional features you would consider developing, and why.\n",
    "\n",
    "c)\tAny specific problems you might foresee arising for this particular modeling task, and what you might do to handle them. \n"
   ]
  },
  {
   "cell_type": "markdown",
   "metadata": {},
   "source": [
    "### Answer\n",
    "\n",
    "This would be a classical classification task. You define a target for every listing as either sold or not during the next 7 days. I would test multiple models including xgboost, random forest, svm, logistic regression to see which one fits best (I prefer to use confusion matrices and AUROC to see how well they fit, since they are insensitive to class imbalance). The models return an estimation of \"probability\" of sales for the target, i.e. whether a sale will happen in the next 7 days. \n",
    "\n",
    "Here I believe listed-car specific features would be most important. Feature discretisation (on year, price, mileage, car tye (SUV, family car, etc) could help to make the model more robust to overfitting. One hot encoding of color vaiable would be needed and the least popular colors could be listed as 'other' to reduce dimmensionality.\n",
    "\n",
    "One consideration would be whether to include same listing over and over for every date when it's iisted or only once/twice - when listing was sold/noxt sold in the next 7 days. I would do the former and include every listing for every listed day in both training and testing datasets - larger dataset and higher variation of features; however, the cars listing_ids in training and testing datasets would differ to avoid possible info leakage.\n",
    "\n",
    "Additionally, there is some class imbalance - the number of listings is >40 times higher than the number of sales. However, the class imbalance would decrease if we mark all listings <7 days before sale as \"sold\". Nevertheless, to deal with class imbalance problem, undersampling/oversampling (SMOTE is quite good) could be helpful. It should be tested if oversamling outperforms original dataset with simply model hyperparameters adjusted for class imbalance - it can be either way from my experience."
   ]
  },
  {
   "cell_type": "markdown",
   "metadata": {},
   "source": [
    "### Task 6\n",
    "\n",
    "Describe any additional observations and/or thoughts you had about this dataset in a subdirectory called data_science_homework/additional_observations, in a file with a format of your choosing."
   ]
  },
  {
   "cell_type": "markdown",
   "metadata": {},
   "source": [
    "### Thoughts/observations\n",
    "__1)__. \n",
    "There were duplicates/some incomplete entries in sales and listings dataset - that I covered above, before Task 1.\n",
    "\n",
    "\n",
    "__2)__ I did not dive into other variables since the tasks didn't reaquire me to.\n",
    "\n",
    "\n",
    "__3)__ I hope I interpreted the 1) task correctly. These parts were a bit confusing:\n",
    "\n",
    "\"<...> for each valid pair of make and model values <...> The report should include days when no vehicles were sold, in which case sales_count = 0.\"\n",
    "\n",
    "Initially I added all of the existing variations of every model and make for every seller. Also I used reindexing to add every missing date between the missing dates of listings. However, then the dataset got really huge and I thought that probably the task was much simpler and wanted me to only include: \n",
    "\n",
    "__a)__ for each valid pair of make and model values __that the seller had listed__.\n",
    "\n",
    "__b)__ no interpolation of dates was needed but instead I simply had to keep the listings without sales in the dataset\n",
    "\n",
    "So I did that."
   ]
  },
  {
   "cell_type": "code",
   "execution_count": null,
   "metadata": {},
   "outputs": [],
   "source": []
  }
 ],
 "metadata": {
  "kernelspec": {
   "display_name": "Python 3",
   "language": "python",
   "name": "python3"
  },
  "language_info": {
   "codemirror_mode": {
    "name": "ipython",
    "version": 3
   },
   "file_extension": ".py",
   "mimetype": "text/x-python",
   "name": "python",
   "nbconvert_exporter": "python",
   "pygments_lexer": "ipython3",
   "version": "3.6.13"
  }
 },
 "nbformat": 4,
 "nbformat_minor": 2
}
